{
 "cells": [
  {
   "cell_type": "code",
   "execution_count": 41,
   "metadata": {
    "pycharm": {
     "name": "#%%\n"
    }
   },
   "outputs": [
    {
     "name": "stderr",
     "output_type": "stream",
     "text": [
      "[Stage 135:>                                                        (0 + 1) / 1]\r"
     ]
    },
    {
     "name": "stdout",
     "output_type": "stream",
     "text": [
      "root\n",
      " |-- VendorID: integer (nullable = true)\n",
      " |-- lpep_pickup_datetime: timestamp (nullable = true)\n",
      " |-- lpep_dropoff_datetime: timestamp (nullable = true)\n",
      " |-- store_and_fwd_flag: string (nullable = true)\n",
      " |-- RatecodeID: integer (nullable = true)\n",
      " |-- PULocationID: integer (nullable = true)\n",
      " |-- DOLocationID: integer (nullable = true)\n",
      " |-- passenger_count: integer (nullable = true)\n",
      " |-- trip_distance: double (nullable = true)\n",
      " |-- fare_amount: double (nullable = true)\n",
      " |-- extra: double (nullable = true)\n",
      " |-- mta_tax: double (nullable = true)\n",
      " |-- tip_amount: double (nullable = true)\n",
      " |-- tolls_amount: double (nullable = true)\n",
      " |-- ehail_fee: string (nullable = true)\n",
      " |-- improvement_surcharge: double (nullable = true)\n",
      " |-- total_amount: double (nullable = true)\n",
      " |-- payment_type: integer (nullable = true)\n",
      " |-- trip_type: integer (nullable = true)\n",
      " |-- congestion_surcharge: double (nullable = true)\n",
      "\n"
     ]
    },
    {
     "name": "stderr",
     "output_type": "stream",
     "text": [
      "                                                                                \r"
     ]
    }
   ],
   "source": [
    "from pyspark.sql import SparkSession\n",
    "from pyspark.sql.functions import when, to_date\n",
    "from pyspark.sql.types import StringType\n",
    "\n",
    "spark = SparkSession.builder.master(\"local\").appName(\"Avenga\").getOrCreate()\n",
    "df = spark.read.format(\"csv\")\\\n",
    "    .option(\"header\", True)\\\n",
    "    .option(\"inferSchema\", True)\\\n",
    "    .option(\"delimiter\", \",\")\\\n",
    "    .option(\"quotes\", \"|\")\\\n",
    "    .load(\"taxi_tripdata.csv\")\n",
    "df.printSchema()"
   ]
  },
  {
   "cell_type": "code",
   "execution_count": 42,
   "outputs": [],
   "source": [
    "df_col_up = df.withColumn(\"VendorID\", when(df.VendorID == 1,\"Creative Mobile Technologies, LLC\").when(df.VendorID == 2, \"VeriFone Inc\"))\n",
    "df_col_up = df_col_up.withColumn(\"payment_type\", when(df_col_up.payment_type == 1,\"Credit card\")\n",
    "                           .when(df_col_up.payment_type == 2, \"Cash\")\n",
    "                           .when(df_col_up.payment_type == 3, \"No charge\")\n",
    "                           .when(df_col_up.payment_type == 4, \"Dispute\")\n",
    "                           .when(df_col_up.payment_type == 5, \"Unknown\")\n",
    "                           .when(df_col_up.payment_type == 6, \"Voided trip\")\n",
    "                           .otherwise(\"Unknown\"))\n",
    "df_col_up = df_col_up.withColumn(\"day_date\",to_date('lpep_pickup_datetime'))"
   ],
   "metadata": {
    "collapsed": false,
    "pycharm": {
     "name": "#%%\n"
    }
   }
  },
  {
   "cell_type": "code",
   "execution_count": 43,
   "outputs": [
    {
     "name": "stdout",
     "output_type": "stream",
     "text": [
      "+--------------------+------------+------------------+\n",
      "|            VendorID|payment_type| payment_rate_type|\n",
      "+--------------------+------------+------------------+\n",
      "|Creative Mobile T...|        Cash|10.528369994359748|\n",
      "|Creative Mobile T...| Credit card|17.518158357771675|\n",
      "|Creative Mobile T...|     Dispute| 7.854000000000002|\n",
      "|Creative Mobile T...|   No charge|  8.83869346733666|\n",
      "|Creative Mobile T...|     Unknown|             39.55|\n",
      "|        VeriFone Inc|        Cash| 9.830360790497812|\n",
      "|        VeriFone Inc| Credit card| 17.06046748629696|\n",
      "|        VeriFone Inc|     Dispute|-6.911538461538464|\n",
      "|        VeriFone Inc|   No charge|-5.786298701298686|\n",
      "+--------------------+------------+------------------+\n",
      "\n"
     ]
    }
   ],
   "source": [
    "df_col_up.createOrReplaceTempView(\"tableA\")\n",
    "df_payment_rate = spark.sql(\"SELECT VendorID, payment_type, CAST((SUM(total_amount)/SUM(passenger_count)) AS DOUBLE) AS payment_rate_type  from tableA WHERE VendorID is not null AND total_amount is not null AND passenger_count is not null AND passenger_count > 0 AND day_date >= '2021-07-01' AND day_date <= '2021-07-31' GROUP BY VendorID, payment_type ORDER BY VendorID, payment_type\")\n",
    "df_payment_rate.show()"
   ],
   "metadata": {
    "collapsed": false,
    "pycharm": {
     "name": "#%%\n"
    }
   }
  },
  {
   "cell_type": "code",
   "execution_count": 44,
   "outputs": [],
   "source": [
    "df1 = spark.sql(\"SELECT VendorID, day_date, CAST(AVG(total_amount/passenger_count) AS DOUBLE) AS payment_rate_day  from tableA WHERE VendorID is not null AND total_amount is not null AND passenger_count is not null AND passenger_count > 0 AND day_date >= '2021-07-01' AND day_date <= '2021-07-31' GROUP BY VendorID, day_date ORDER BY VendorID, day_date, payment_rate_day\")"
   ],
   "metadata": {
    "collapsed": false,
    "pycharm": {
     "name": "#%%\n"
    }
   }
  },
  {
   "cell_type": "code",
   "execution_count": 45,
   "outputs": [],
   "source": [
    "df1.createOrReplaceTempView(\"tableB\")\n",
    "df2 = spark.sql(\"SELECT VendorID, payment_rate_day, LAG(payment_rate_day, 1) OVER(PARTITION BY VendorID ORDER BY VendorID, payment_rate_day) AS pr_payment_rate_day from tableB\")"
   ],
   "metadata": {
    "collapsed": false,
    "pycharm": {
     "name": "#%%\n"
    }
   }
  },
  {
   "cell_type": "code",
   "execution_count": 46,
   "outputs": [],
   "source": [
    "df2.createOrReplaceTempView(\"tableC\")\n",
    "df3 = spark.sql(\"SELECT VendorID, payment_rate_day, pr_payment_rate_day,  (payment_rate_day - pr_payment_rate_day)/pr_payment_rate_day AS growth_rate_day from tableC\")"
   ],
   "metadata": {
    "collapsed": false,
    "pycharm": {
     "name": "#%%\n"
    }
   }
  },
  {
   "cell_type": "code",
   "execution_count": 47,
   "outputs": [],
   "source": [
    "df3.createOrReplaceTempView(\"tableD\")\n",
    "df4 = spark.sql(\"SELECT VendorID,  CAST(((AVG(growth_rate_day))*100*30) AS DOUBLE) AS percents_to_next_rate from tableD WHERE growth_rate_day is not null GROUP BY VendorID\")"
   ],
   "metadata": {
    "collapsed": false,
    "pycharm": {
     "name": "#%%\n"
    }
   }
  },
  {
   "cell_type": "code",
   "execution_count": 48,
   "outputs": [
    {
     "name": "stdout",
     "output_type": "stream",
     "text": [
      "+--------------------+---------------------+\n",
      "|            VendorID|percents_to_next_rate|\n",
      "+--------------------+---------------------+\n",
      "|Creative Mobile T...|   24.289626343868626|\n",
      "|        VeriFone Inc|   12.223834531495921|\n",
      "+--------------------+---------------------+\n",
      "\n"
     ]
    }
   ],
   "source": [
    "df4.show()"
   ],
   "metadata": {
    "collapsed": false,
    "pycharm": {
     "name": "#%%\n"
    }
   }
  },
  {
   "cell_type": "code",
   "execution_count": 49,
   "outputs": [],
   "source": [
    "df5 = spark.sql(\"SELECT VendorID, CAST((max(total_amount/passenger_count)) AS DOUBLE) AS max_payment_rate, CAST((SUM(total_amount)/SUM(passenger_count)) AS DOUBLE) AS avg_payment_rate from tableA WHERE VendorID is not null AND total_amount is not null AND passenger_count is not null AND passenger_count > 0 GROUP BY VendorID ORDER BY VendorID\")"
   ],
   "metadata": {
    "collapsed": false,
    "pycharm": {
     "name": "#%%\n"
    }
   }
  },
  {
   "cell_type": "code",
   "execution_count": 50,
   "outputs": [
    {
     "name": "stdout",
     "output_type": "stream",
     "text": [
      "+--------------------+----------------+------------------+\n",
      "|            VendorID|max_payment_rate|  avg_payment_rate|\n",
      "+--------------------+----------------+------------------+\n",
      "|Creative Mobile T...|          184.21| 14.50976592392627|\n",
      "|        VeriFone Inc|          480.31|13.994296617912743|\n",
      "+--------------------+----------------+------------------+\n",
      "\n"
     ]
    }
   ],
   "source": [
    "df5.show()"
   ],
   "metadata": {
    "collapsed": false,
    "pycharm": {
     "name": "#%%\n"
    }
   }
  },
  {
   "cell_type": "code",
   "execution_count": 51,
   "outputs": [],
   "source": [
    "df5.createOrReplaceTempView(\"tableF\")\n",
    "df4.createOrReplaceTempView(\"tableE\")\n",
    "df_payment_rate.createOrReplaceTempView(\"tableG\")\n",
    "df6 = spark.sql(\"SELECT tablef.VendorID, tableg.payment_type, tableg.payment_rate_type, CAST(tablef.avg_payment_rate*((tablee.percents_to_next_rate*0.01)+1) AS DOUBLE) AS next_payment_rate, tablef.max_payment_rate, tablee.percents_to_next_rate from tablef \"\n",
    "                \"LEFT JOIN tablee USING (VendorId)\"\n",
    "                \"LEFT JOIN tableg USING (VendorId)\")"
   ],
   "metadata": {
    "collapsed": false,
    "pycharm": {
     "name": "#%%\n"
    }
   }
  },
  {
   "cell_type": "code",
   "execution_count": 52,
   "outputs": [
    {
     "name": "stderr",
     "output_type": "stream",
     "text": [
      "                                                                                \r"
     ]
    },
    {
     "name": "stdout",
     "output_type": "stream",
     "text": [
      "root\n",
      " |-- VendorID: string (nullable = true)\n",
      " |-- payment_type: string (nullable = true)\n",
      " |-- payment_rate_type: double (nullable = true)\n",
      " |-- next_payment_rate: double (nullable = true)\n",
      " |-- max_payment_rate: double (nullable = true)\n",
      " |-- percents_to_next_rate: string (nullable = true)\n",
      "\n"
     ]
    }
   ],
   "source": [
    "df6 = df6.withColumn(\"percents_to_next_rate\", df6['percents_to_next_rate'].cast(StringType()))\n",
    "df6.write.format(\"csv\").option(\"header\",True).mode(\"overwrite\").save(\"final\")\n",
    "df6.printSchema()"
   ],
   "metadata": {
    "collapsed": false,
    "pycharm": {
     "name": "#%%\n"
    }
   }
  },
  {
   "cell_type": "code",
   "execution_count": null,
   "outputs": [],
   "source": [],
   "metadata": {
    "collapsed": false,
    "pycharm": {
     "name": "#%%\n"
    }
   }
  }
 ],
 "metadata": {
  "kernelspec": {
   "display_name": "Python 3 (ipykernel)",
   "language": "python",
   "name": "python3"
  },
  "language_info": {
   "codemirror_mode": {
    "name": "ipython",
    "version": 3
   },
   "file_extension": ".py",
   "mimetype": "text/x-python",
   "name": "python",
   "nbconvert_exporter": "python",
   "pygments_lexer": "ipython3",
   "version": "3.10.4"
  }
 },
 "nbformat": 4,
 "nbformat_minor": 1
}